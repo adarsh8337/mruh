{
 "cells": [
  {
   "cell_type": "code",
   "execution_count": null,
   "id": "c9649794-4965-4e89-9d1d-5e240b3f6a76",
   "metadata": {},
   "outputs": [],
   "source": [
    "\n",
    "    "
   ]
  },
  {
   "cell_type": "code",
   "execution_count": 2,
   "id": "9d6dde26-1531-4beb-91a2-c88894e9dc57",
   "metadata": {},
   "outputs": [
    {
     "name": "stdin",
     "output_type": "stream",
     "text": [
      " 2\n",
      " 22\n"
     ]
    },
    {
     "name": "stdout",
     "output_type": "stream",
     "text": [
      "2\n",
      "4\n"
     ]
    },
    {
     "name": "stdin",
     "output_type": "stream",
     "text": [
      " 1234\n"
     ]
    },
    {
     "name": "stdout",
     "output_type": "stream",
     "text": [
      "4\n",
      "7\n",
      "9\n",
      "10\n"
     ]
    }
   ],
   "source": [
    "for i in range(int(input())):\n",
    "    x=int(input())\n",
    "    sum1=0\n",
    "    while x!=0:\n",
    "        d1=x%10\n",
    "        sum1+=d1\n",
    "        x//=10\n",
    "        print(sum1)"
   ]
  },
  {
   "cell_type": "code",
   "execution_count": 4,
   "id": "09dafdaf-b0e4-46b6-acb1-cf7917e34d09",
   "metadata": {},
   "outputs": [
    {
     "name": "stdin",
     "output_type": "stream",
     "text": [
      " 1\n",
      " 123\n"
     ]
    }
   ],
   "source": [
    "for i in range(int(input())):\n",
    "    x1=input()\n",
    "    sum=0\n",
    "    x2=int(x1)\n",
    "    while x2>0:\n",
    "        d2=int(x2)%10\n",
    "        sum+=d2\n",
    "        x2//=10"
   ]
  },
  {
   "cell_type": "code",
   "execution_count": null,
   "id": "29516b79-ae63-446e-a1c5-65cd9d018d27",
   "metadata": {},
   "outputs": [],
   "source": [
    "x5 = input()\n",
    "sum12(sum(x5i)for x5i in "
   ]
  }
 ],
 "metadata": {
  "kernelspec": {
   "display_name": "Python 3 (ipykernel)",
   "language": "python",
   "name": "python3"
  },
  "language_info": {
   "codemirror_mode": {
    "name": "ipython",
    "version": 3
   },
   "file_extension": ".py",
   "mimetype": "text/x-python",
   "name": "python",
   "nbconvert_exporter": "python",
   "pygments_lexer": "ipython3",
   "version": "3.12.7"
  }
 },
 "nbformat": 4,
 "nbformat_minor": 5
}
